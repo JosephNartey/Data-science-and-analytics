{
 "cells": [
  {
   "cell_type": "code",
   "execution_count": 1,
   "metadata": {},
   "outputs": [
    {
     "name": "stdout",
     "output_type": "stream",
     "text": [
      "(100, 3)\n"
     ]
    },
    {
     "data": {
      "text/html": [
       "<div>\n",
       "<style scoped>\n",
       "    .dataframe tbody tr th:only-of-type {\n",
       "        vertical-align: middle;\n",
       "    }\n",
       "\n",
       "    .dataframe tbody tr th {\n",
       "        vertical-align: top;\n",
       "    }\n",
       "\n",
       "    .dataframe thead th {\n",
       "        text-align: right;\n",
       "    }\n",
       "</style>\n",
       "<table border=\"1\" class=\"dataframe\">\n",
       "  <thead>\n",
       "    <tr style=\"text-align: right;\">\n",
       "      <th></th>\n",
       "      <th>x1</th>\n",
       "      <th>x2</th>\n",
       "      <th>y</th>\n",
       "    </tr>\n",
       "  </thead>\n",
       "  <tbody>\n",
       "    <tr>\n",
       "      <th>0</th>\n",
       "      <td>34.623660</td>\n",
       "      <td>78.024693</td>\n",
       "      <td>0</td>\n",
       "    </tr>\n",
       "    <tr>\n",
       "      <th>1</th>\n",
       "      <td>30.286711</td>\n",
       "      <td>43.894998</td>\n",
       "      <td>0</td>\n",
       "    </tr>\n",
       "    <tr>\n",
       "      <th>2</th>\n",
       "      <td>35.847409</td>\n",
       "      <td>72.902198</td>\n",
       "      <td>0</td>\n",
       "    </tr>\n",
       "    <tr>\n",
       "      <th>3</th>\n",
       "      <td>60.182599</td>\n",
       "      <td>86.308552</td>\n",
       "      <td>1</td>\n",
       "    </tr>\n",
       "    <tr>\n",
       "      <th>4</th>\n",
       "      <td>79.032736</td>\n",
       "      <td>75.344376</td>\n",
       "      <td>1</td>\n",
       "    </tr>\n",
       "  </tbody>\n",
       "</table>\n",
       "</div>"
      ],
      "text/plain": [
       "          x1         x2  y\n",
       "0  34.623660  78.024693  0\n",
       "1  30.286711  43.894998  0\n",
       "2  35.847409  72.902198  0\n",
       "3  60.182599  86.308552  1\n",
       "4  79.032736  75.344376  1"
      ]
     },
     "execution_count": 1,
     "metadata": {},
     "output_type": "execute_result"
    }
   ],
   "source": [
    "%matplotlib inline\n",
    "import numpy as np\n",
    "import pandas as pd\n",
    "import matplotlib.pyplot as plt\n",
    "from scipy.optimize import check_grad\n",
    "from sklearn.datasets import make_classification\n",
    "\n",
    "#Read the csv data\n",
    "data = pd.read_csv('ex2data1.csv',sep=',')\n",
    "print(data.shape)\n",
    "data.head()\n"
   ]
  },
  {
   "cell_type": "code",
   "execution_count": 2,
   "metadata": {},
   "outputs": [],
   "source": [
    "x_data = data.iloc[:,:-1]#initial 2 columns\n"
   ]
  },
  {
   "cell_type": "code",
   "execution_count": 41,
   "metadata": {},
   "outputs": [
    {
     "data": {
      "image/png": "[encoded data removed]",
      "text/plain": [
       "<Figure size 432x288 with 1 Axes>"
      ]
     },
     "metadata": {
      "needs_background": "light"
     },
     "output_type": "display_data"
    }
   ],
   "source": [
    "y_data = data.iloc[:,-1] #last column\n",
    "\n",
    "\n",
    "ad = data.loc[y_data == 1]\n",
    "bd = data.loc[y_data == 0]\n",
    "\n",
    "plt.scatter(ad.iloc[:, 0], ad.iloc[:, 1], s=10, label='ad')\n",
    "plt.scatter(bd.iloc[:, 0], bd.iloc[:, 1], s=10, label='bd')\n",
    "plt.legend()\n",
    "plt.show()"
   ]
  },
  {
   "cell_type": "code",
   "execution_count": 85,
   "metadata": {},
   "outputs": [],
   "source": [
    "lr = 0.01\n",
    "num_iter = 100000\n",
    "def add_intercept(x_data):\n",
    "    intercept = np.ones((x_data.shape[0], 1))\n",
    "    return np.concatenate((intercept, x_data), axis=1)"
   ]
  },
  {
   "cell_type": "code",
   "execution_count": 86,
   "metadata": {},
   "outputs": [],
   "source": [
    "X = add_intercept(x_data)\n"
   ]
  },
  {
   "cell_type": "code",
   "execution_count": 87,
   "metadata": {},
   "outputs": [],
   "source": [
    "def sigmoid(z):\n",
    "    return 1 / (1 + np.exp(-z))"
   ]
  },
  {
   "cell_type": "code",
   "execution_count": 88,
   "metadata": {},
   "outputs": [],
   "source": [
    "def cost(h, y):\n",
    "    return (-y * np.log(h) - (1 - y) * np.log(1 - h)).mean()"
   ]
  },
  {
   "cell_type": "code",
   "execution_count": 89,
   "metadata": {},
   "outputs": [],
   "source": [
    "\n",
    "def gradient_descent(X, y_data):   \n",
    "    # weights initialization\n",
    "    theta = np.zeros(X.shape[1])\n",
    "    descent = dict()\n",
    "        \n",
    "    for i in range(num_iter):\n",
    "        z = np.dot(X, theta)\n",
    "        h = sigmoid(z)\n",
    "        gradient = np.dot(X.T, (h - y_data)) / y_data.size\n",
    "        theta -= lr * gradient\n",
    "            \n",
    "        z = np.dot(X,theta)\n",
    "        h = sigmoid(z)\n",
    "        loss = cost(h, y_data)\n",
    "                \n",
    "        if i % 10000 == 0:\n",
    "            # Add something here to capture the 10 costs so that I can plot it against # of iterations\n",
    "            descent[i] = loss\n",
    "            print(f'cost: {loss} \\t', f'weights: {theta} \\t')\n",
    "    return theta"
   ]
  },
  {
   "cell_type": "code",
   "execution_count": 90,
   "metadata": {},
   "outputs": [
    {
     "name": "stdout",
     "output_type": "stream",
     "text": [
      "cost: 4.960600143358933 \t weights: [0.001      0.12009217 0.11262842] \t\n"
     ]
    },
    {
     "name": "stderr",
     "output_type": "stream",
     "text": [
      "/home/ubuntu-eng-01/anaconda3/lib/python3.7/site-packages/ipykernel_launcher.py:2: RuntimeWarning: divide by zero encountered in log\n",
      "  \n"
     ]
    },
    {
     "name": "stdout",
     "output_type": "stream",
     "text": [
      "cost: 7.058003348364873 \t weights: [-7.66288512  0.20608697 -0.26216035] \t\n",
      "cost: inf \t weights: [-15.15245113   0.66056464   0.24510133] \t\n",
      "cost: 2.6985950710978126 \t weights: [-22.27481465   0.42581515   0.11761326] \t\n",
      "cost: 2.4977806978893846 \t weights: [-28.888631     0.27383155   0.06363836] \t\n",
      "cost: inf \t weights: [-34.98142694   0.69523128   0.47707071] \t\n",
      "cost: 1.1484951273415296 \t weights: [-39.67118957   0.28876484   0.25156869] \t\n",
      "cost: 5.9450855340545745 \t weights: [-42.25125223   0.52178815   0.48085137] \t\n",
      "cost: 0.5408703268648108 \t weights: [-44.14938087   0.34795234   0.30315416] \t\n",
      "cost: 0.6650623056947012 \t weights: [-46.42794462   0.37131414   0.30466863] \t\n"
     ]
    }
   ],
   "source": [
    "weights= gradient_descent(X,y_data)\n"
   ]
  },
  {
   "cell_type": "code",
   "execution_count": 105,
   "metadata": {},
   "outputs": [
    {
     "name": "stdout",
     "output_type": "stream",
     "text": [
      "[-48.86134447   0.57769372   0.48293217]\n"
     ]
    }
   ],
   "source": [
    "print(weights)\n",
    "x_values = [np.min(x_data.iloc[:, 0]-10 ), np.max(x_data.iloc[:, 1] +10)]\n",
    "y_values = - (weights[0] + np.dot(weights[1], x_values)) / weights[2]\n",
    "\n"
   ]
  },
  {
   "cell_type": "code",
   "execution_count": 106,
   "metadata": {},
   "outputs": [
    {
     "name": "stdout",
     "output_type": "stream",
     "text": [
      "[20.05882244669796, 108.86943574220612]\n"
     ]
    }
   ],
   "source": [
    "\n",
    "print(x_values)"
   ]
  },
  {
   "cell_type": "code",
   "execution_count": 107,
   "metadata": {},
   "outputs": [
    {
     "name": "stdout",
     "output_type": "stream",
     "text": [
      "[ 77.18162351 -29.05551985]\n"
     ]
    }
   ],
   "source": [
    "print(y_values)"
   ]
  },
  {
   "cell_type": "code",
   "execution_count": 109,
   "metadata": {},
   "outputs": [
    {
     "data": {
      "image/png": "[encoded data removed]",
      "text/plain": [
       "<Figure size 432x288 with 1 Axes>"
      ]
     },
     "metadata": {
      "needs_background": "light"
     },
     "output_type": "display_data"
    }
   ],
   "source": [
    "\n",
    "plt.plot(x_values, y_values, label='Decision Boundary')\n",
    "plt.scatter(ad.iloc[:, 0], ad.iloc[:, 1], s=10, label='ad')\n",
    "plt.scatter(bd.iloc[:, 0], bd.iloc[:, 1], s=10, label='bd')\n",
    "\n",
    "plt.legend()\n",
    "plt.show()"
   ]
  },
  {
   "cell_type": "code",
   "execution_count": null,
   "metadata": {},
   "outputs": [],
   "source": []
  },
  {
   "cell_type": "code",
   "execution_count": null,
   "metadata": {},
   "outputs": [],
   "source": []
  }
 ],
 "metadata": {
  "kernelspec": {
   "display_name": "Python 3",
   "language": "python",
   "name": "python3"
  },
  "language_info": {
   "codemirror_mode": {
    "name": "ipython",
    "version": 3
   },
   "file_extension": ".py",
   "mimetype": "text/x-python",
   "name": "python",
   "nbconvert_exporter": "python",
   "pygments_lexer": "ipython3",
   "version": "3.7.1"
  }
 },
 "nbformat": 4,
 "nbformat_minor": 2
}
